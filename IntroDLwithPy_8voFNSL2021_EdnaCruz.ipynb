{
  "nbformat": 4,
  "nbformat_minor": 0,
  "metadata": {
    "colab": {
      "name": "IntroDLwithPy_8voFNSL2021_EdnaCruz.ipynb",
      "provenance": [],
      "collapsed_sections": [],
      "toc_visible": true
    },
    "kernelspec": {
      "name": "python3",
      "display_name": "Python 3"
    },
    "language_info": {
      "name": "python"
    }
  },
  "cells": [
    {
      "cell_type": "markdown",
      "metadata": {
        "id": "PhgmGTuSGLfa"
      },
      "source": [
        "# Introducción al Deep Learning con Python || Edna Cruz Flores\n",
        "\n",
        "8VO FORO NACIONAL DE SOFTWARE LIBRE 2021 - ITSNa\n",
        "\n",
        "Jueves. 24 de junio, 2021\n",
        "\n",
        "Implementación de una red neurnal artificial sencilla con el conjunto de datos  MNIST (Modified National Institute of Standards and Technology).\n",
        "\n",
        "El módulo tf.keras.datasets proporciona algunos conjuntos de datos como MNIST. Contiene ejemplos de imágenes de números del 0 hasta el 9 escritos a mano."
      ]
    },
    {
      "cell_type": "markdown",
      "metadata": {
        "id": "HFI8bd2xlj6Z"
      },
      "source": [
        "![picture](https://upload.wikimedia.org/wikipedia/commons/2/27/MnistExamples.png)\n",
        "\n",
        "\n",
        "## Cargar bibliotecas"
      ]
    },
    {
      "cell_type": "code",
      "metadata": {
        "id": "3C1nD6yGF5DK"
      },
      "source": [
        "from keras.datasets import mnist\n",
        "import matplotlib.pyplot as plt\n",
        "import numpy as np\n",
        "\n",
        "from keras.models import Sequential\n",
        "from keras.layers import Dense, Activation, Dropout\n",
        "from tensorflow.keras.utils import to_categorical\n",
        "from keras.utils.vis_utils import plot_model\n",
        "from PIL import Image\n",
        "from keras.preprocessing.image import load_img\n",
        "from keras.preprocessing.image import img_to_array"
      ],
      "execution_count": null,
      "outputs": []
    },
    {
      "cell_type": "markdown",
      "metadata": {
        "id": "7Wjy0WEuoGD4"
      },
      "source": [
        "## Carga y división del conjunto de datos\n",
        "\n",
        "\n",
        "\n",
        "\n",
        "*   Conjunto de entrenamiento: Un subconjunto para entrenar un modelo.\n",
        "*   Conjunto de prueba: Un subconjunto para probar el modelo entrenado.\n",
        "\n",
        "\n"
      ]
    },
    {
      "cell_type": "code",
      "metadata": {
        "id": "eVB0HNqZoQAO"
      },
      "source": [
        "# Descargar el conjunto de datos MNIST en un subconjunto de prueba y de entrenamiento.\n",
        "(trainX, trainy), (testX, testy) = mnist.load_data()"
      ],
      "execution_count": null,
      "outputs": []
    },
    {
      "cell_type": "code",
      "metadata": {
        "id": "8EmB5-EhmOH7"
      },
      "source": [
        "# Dimensiones de los subconjuntos de datos\n",
        "print('Conjunto de datos de entrenamiento: X=%s, y=%s\\n' % (trainX.shape, trainy.shape))\n",
        "print('Conjunto de datos de prueba: X=%s, y=%s\\n' % (testX.shape, testy.shape))\n",
        "# Graficar una submuestra del conjunto de datos\n",
        "for i in range(9):\n",
        "\t# Definir el gráfico\n",
        "\tpyplot.subplot(330 + 1 + i)\n",
        "\tpyplot.imshow(trainX[i], cmap=pyplot.get_cmap('gray'))\n",
        "# Mostrar el gráfico final\n",
        "pyplot.show()"
      ],
      "execution_count": null,
      "outputs": []
    },
    {
      "cell_type": "markdown",
      "metadata": {
        "id": "i50G3wUSvVUd"
      },
      "source": [
        "## Preprocesamiento de los datos"
      ]
    },
    {
      "cell_type": "code",
      "metadata": {
        "id": "lmLtFkJOtXm9"
      },
      "source": [
        "# Cálculo del número de clases desde el conjunto de entrenamiento\n",
        "num_labels = len(np.unique(trainy))\n",
        "print('Número de clases: ', num_labels)"
      ],
      "execution_count": null,
      "outputs": []
    },
    {
      "cell_type": "markdown",
      "metadata": {
        "id": "173P-MrUwHW_"
      },
      "source": [
        "Reajuste de las dimensiones de las matrices en ambos subconjuntos de datos. Los datos deben estar en tensores para que puedan ser recibidos como entrada por una red neuronal artificial. Para ello las matrices de pixeles se transformarán a vectores de 784 , siendo el resultado de la transformación de las matrices con dimensión de 28x28"
      ]
    },
    {
      "cell_type": "code",
      "metadata": {
        "id": "GohXj6su30wW"
      },
      "source": [
        "# image dimensions (assumed square)\n",
        "image_size = trainX.shape[1]\n",
        "input_size = image_size * image_size\n",
        "input_size"
      ],
      "execution_count": null,
      "outputs": []
    },
    {
      "cell_type": "code",
      "metadata": {
        "id": "UUSb1iS6vjer"
      },
      "source": [
        "trainX = np.reshape(trainX, [-1, input_size])\n",
        "testX = np.reshape(testX, [-1, input_size])"
      ],
      "execution_count": null,
      "outputs": []
    },
    {
      "cell_type": "code",
      "metadata": {
        "id": "PRBi_nJEwrdO"
      },
      "source": [
        "#Nuevas dimensiones del las matrices de pixeles de las imágenes\n",
        "# Dimensiones de los subconjuntos de datos\n",
        "print('Conjunto de datos de entrenamiento: X=%s, y=%s\\n' % (trainX.shape, trainy.shape))\n",
        "print('Conjunto de datos de prueba: X=%s, y=%s\\n' % (testX.shape, testy.shape))"
      ],
      "execution_count": null,
      "outputs": []
    },
    {
      "cell_type": "code",
      "metadata": {
        "id": "vh6a5NSZw1ew"
      },
      "source": [
        "#Transformación a vectores binarios (one-hot encoding) las etiquetas los conjuntos de datos\n",
        "trainY = to_categorical(trainy)\n",
        "testY = to_categorical(testy)"
      ],
      "execution_count": null,
      "outputs": []
    },
    {
      "cell_type": "markdown",
      "metadata": {
        "id": "iXBsprOcx9h4"
      },
      "source": [
        "Observemos el vector binario de la primer imágen en el conjunto de datos de prueba."
      ]
    },
    {
      "cell_type": "code",
      "metadata": {
        "id": "bJxnDcGLx8bA"
      },
      "source": [
        "testY[0]"
      ],
      "execution_count": null,
      "outputs": []
    },
    {
      "cell_type": "markdown",
      "metadata": {
        "id": "hkT31qUjymi0"
      },
      "source": [
        "Observemos la etiqueta sin vector binario del conjunto de datos de prueba"
      ]
    },
    {
      "cell_type": "code",
      "metadata": {
        "id": "tvm75IPVyOwQ"
      },
      "source": [
        "testy[0]"
      ],
      "execution_count": null,
      "outputs": []
    },
    {
      "cell_type": "markdown",
      "metadata": {
        "id": "EdFl4ZbH1YwX"
      },
      "source": [
        "Normalización de los valores de pixeles en ambos conjuntos de datos que contienen valores desde 0 hasta 255 a un rango de 0 a 1."
      ]
    },
    {
      "cell_type": "code",
      "metadata": {
        "id": "OmeE7blXyuXz"
      },
      "source": [
        "# primero se convierten a valores punto flotante\n",
        "trainX_norm = trainX.astype('float32')\n",
        "testX_norm = testX.astype('float32')\n",
        "# Normalización de los valores de los pixeles a un rango entre 0 y 1\n",
        "trainX_norm = trainX_norm / 255.0\n",
        "testX_norm = testX_norm / 255.0"
      ],
      "execution_count": null,
      "outputs": []
    },
    {
      "cell_type": "markdown",
      "metadata": {
        "id": "itNfClx73a6C"
      },
      "source": [
        "## Hiper parámetros de la red neurnal artificial\n",
        "\n",
        "Los hiperparámetros de un modelo son los valores de las configuraciones utilizadas durante el proceso de entrenamiento.\n",
        "\n",
        "Los parámetros son las variables que se estiman durante el proceso de entrenamiento con los conjuntos de datos.\n",
        "\n",
        "\n",
        "\n",
        "*   Batch size es el número de ejemplos que se pasan al algoritmo en cada iteración de aprendizaje.\n",
        "*   Dropout es una técnica de regularización para reducir el sobreajuste en redes neuronales artificiales.\n",
        "\n"
      ]
    },
    {
      "cell_type": "code",
      "metadata": {
        "id": "ZSjCBeAS3gpc"
      },
      "source": [
        "batch_size = 128\n",
        "hidden_units = 256\n",
        "dropout = 0.45\n",
        "no_epochs = 20"
      ],
      "execution_count": null,
      "outputs": []
    },
    {
      "cell_type": "markdown",
      "metadata": {
        "id": "1KmKBpwO2K6a"
      },
      "source": [
        "## Definición del modelo"
      ]
    },
    {
      "cell_type": "code",
      "metadata": {
        "id": "ENV0Ndrt12Fc"
      },
      "source": [
        "model = Sequential()\n",
        "model.add(Dense(hidden_units, input_dim=input_size))\n",
        "model.add(Activation('relu'))\n",
        "model.add(Dropout(dropout))\n",
        "model.add(Dense(hidden_units))\n",
        "model.add(Activation('relu'))\n",
        "model.add(Dropout(dropout))\n",
        "model.add(Dense(num_labels))\n",
        "model.add(Activation('softmax'))\n",
        "\n",
        "model.summary()"
      ],
      "execution_count": null,
      "outputs": []
    },
    {
      "cell_type": "code",
      "metadata": {
        "id": "elyjZ_ZF4gwh"
      },
      "source": [
        "\n",
        "model.compile(loss='categorical_crossentropy', \n",
        "              optimizer='adam',\n",
        "              metrics=['accuracy'])"
      ],
      "execution_count": null,
      "outputs": []
    },
    {
      "cell_type": "code",
      "metadata": {
        "id": "2p1ZKD9c-L7b"
      },
      "source": [
        "plot_model(model, to_file='MyFistrNeuralNetwork_MNIST.png', show_shapes=True, show_layer_names=True)\n",
        "display(Image.open('MyFistrNeuralNetwork_MNIST.png'))"
      ],
      "execution_count": null,
      "outputs": []
    },
    {
      "cell_type": "code",
      "metadata": {
        "id": "AdsxFSdT4pA6"
      },
      "source": [
        "model_history = model.fit(trainX, trainY, epochs=no_epochs, batch_size=batch_size,  validation_data=(testX, testY))"
      ],
      "execution_count": null,
      "outputs": []
    },
    {
      "cell_type": "code",
      "metadata": {
        "id": "GUfAS2LP42VK"
      },
      "source": [
        "loss, acc = model.evaluate(testX, testY, batch_size=batch_size)\n",
        "print(\"\\nExactitud sobre el conjunto de prueba: %.1f%%\" % (100.0 * acc))"
      ],
      "execution_count": null,
      "outputs": []
    },
    {
      "cell_type": "code",
      "metadata": {
        "id": "iQ8EYf_T8bp2"
      },
      "source": [
        "# Plot training & validation accuracy values\n",
        "fig, ax = plt.subplots(figsize=(7,5)) \n",
        "plt.plot(model_history.history['accuracy'],'b')\n",
        "plt.plot(model_history.history['val_accuracy'],'r')\n",
        "plt.title('Curvas de aprendizaje del accuracy')\n",
        "plt.ylabel('Accuracy')\n",
        "plt.xlabel('Epoch')\n",
        "plt.legend(['Train', 'Test'], loc='lower right')\n",
        "plt.show()\n",
        "\n",
        "# Plot training & validation loss values\n",
        "fig, ax = plt.subplots(figsize=(7,5)) \n",
        "plt.plot(model_history.history['loss'],'b')\n",
        "plt.plot(model_history.history['val_loss'],'r')\n",
        "plt.title('Curvas de aprendizaje de loss function')\n",
        "plt.ylabel('Loss')\n",
        "plt.xlabel('Epochs')\n",
        "plt.legend(['Train', 'Test'], loc='upper right')\n",
        "plt.show()"
      ],
      "execution_count": null,
      "outputs": []
    },
    {
      "cell_type": "markdown",
      "metadata": {
        "id": "xAIwUNcVGCdL"
      },
      "source": [
        "## Predicciones\n",
        "\n",
        "Y, ¿qué es lo que sigue...?\n",
        "\n",
        "¡Probarlo con datos reales!\n",
        "\n",
        "Importamos una imagen desde un link de algún repositorio y guardamos el nombre en una variable"
      ]
    },
    {
      "cell_type": "code",
      "metadata": {
        "id": "gFPOP7QJIutW"
      },
      "source": [
        "#Carga datos locales\n",
        "from google.colab import files\n",
        "uploaded = files.upload()"
      ],
      "execution_count": null,
      "outputs": []
    },
    {
      "cell_type": "code",
      "metadata": {
        "id": "bETg2oiNI46J"
      },
      "source": [
        "imagename = \"sample_8real.png\""
      ],
      "execution_count": null,
      "outputs": []
    },
    {
      "cell_type": "code",
      "metadata": {
        "id": "qgLawta1AE4I"
      },
      "source": [
        "# Se carga la imagen, se aplica espala de grises y un resize a 28 x 28\n",
        "sample = load_img(imagename, grayscale=True, target_size=(28, 28))\n",
        "# Los pixeles de la imagen se pasan a una matriz\n",
        "sample = img_to_array(sample)\n",
        "# se redimensiona a un vector de 1 x 784\n",
        "sample = sample.reshape(1, 784)\n",
        "# se procesa el vector para entrar al modelo\n",
        "sample = sample.astype('float32')\n",
        "sample = sample / 255.0"
      ],
      "execution_count": null,
      "outputs": []
    },
    {
      "cell_type": "code",
      "metadata": {
        "id": "gZ4BWTHVJAVY"
      },
      "source": [
        "prediction = model.predict_classes(sample)\n",
        "print(\"\\nPredicción de la imagen de entrada:  \",prediction[0],\"\\n\")"
      ],
      "execution_count": null,
      "outputs": []
    }
  ]
}